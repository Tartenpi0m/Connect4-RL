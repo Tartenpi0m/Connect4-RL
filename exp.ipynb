{
 "cells": [
  {
   "cell_type": "code",
   "execution_count": 1,
   "metadata": {},
   "outputs": [],
   "source": [
    "from Agent import BaseAgent, CNNAgent\n",
    "from envP4 import Connect4Env\n",
    "import torch\n",
    "from utilities import invert_state"
   ]
  },
  {
   "cell_type": "code",
   "execution_count": 189,
   "metadata": {},
   "outputs": [],
   "source": [
    "first = True\n",
    "qvalue1 = \"1evs2e/10000_a1.pt\"\n",
    "qvalue2 = \"1evs2e/10000_a2.pt\""
   ]
  },
  {
   "cell_type": "code",
   "execution_count": 236,
   "metadata": {},
   "outputs": [
    {
     "name": "stdout",
     "output_type": "stream",
     "text": [
      "\u001b[37m. \u001b[39m\u001b[37m. \u001b[39m\u001b[37m. \u001b[39m\u001b[37m. \u001b[39m\u001b[37m. \u001b[39m\u001b[37m. \u001b[39m\u001b[37m. \u001b[39m\n",
      "\u001b[37m. \u001b[39m\u001b[37m. \u001b[39m\u001b[37m. \u001b[39m\u001b[37m. \u001b[39m\u001b[37m. \u001b[39m\u001b[37m. \u001b[39m\u001b[37m. \u001b[39m\n",
      "\u001b[37m. \u001b[39m\u001b[37m. \u001b[39m\u001b[37m. \u001b[39m\u001b[37m. \u001b[39m\u001b[37m. \u001b[39m\u001b[37m. \u001b[39m\u001b[37m. \u001b[39m\n",
      "\u001b[37m. \u001b[39m\u001b[37m. \u001b[39m\u001b[37m. \u001b[39m\u001b[37m. \u001b[39m\u001b[37m. \u001b[39m\u001b[37m. \u001b[39m\u001b[37m. \u001b[39m\n",
      "\u001b[37m. \u001b[39m\u001b[37m. \u001b[39m\u001b[37m. \u001b[39m\u001b[37m. \u001b[39m\u001b[37m. \u001b[39m\u001b[37m. \u001b[39m\u001b[37m. \u001b[39m\n",
      "\u001b[37m. \u001b[39m\u001b[37m. \u001b[39m\u001b[37m. \u001b[39m\u001b[37m. \u001b[39m\u001b[37m. \u001b[39m\u001b[31mX \u001b[39m\u001b[37m. \u001b[39m\n",
      "\n"
     ]
    }
   ],
   "source": [
    "#step\n",
    "if first:\n",
    "    \n",
    "    player = 1\n",
    "    winner = 0 #False\n",
    "\n",
    "    env = Connect4Env()\n",
    "    agent = CNNAgent(1, env.action_space, env.observation_space, lr=0, eps_init=0, eps_step=0, name=\"player 1\")\n",
    "    agent2 = CNNAgent(2, env.action_space, env.observation_space, lr=0, eps_init=0, eps_step=0, name=\"player 2\")\n",
    "    state = env.reset()\n",
    "    first = False\n",
    "    \n",
    "if not winner:\n",
    "    if player == 1:\n",
    "        action = agent.get_action(state, env.get_moves())\n",
    "        state, reward, winner, info = env.step(action, player)\n",
    "        player = 2\n",
    "    elif player == 2:\n",
    "        action = agent2.get_action(state, env.get_moves())\n",
    "        state, reward, winner, info = env.step(action, player)\n",
    "        player = 1\n",
    "\n",
    "    env.render()\n",
    "\n",
    "    if winner:\n",
    "        print(\"THE WINNER IS PLAYER\", winner)\n",
    "        first = True\n",
    "        winner = 0 #False"
   ]
  },
  {
   "cell_type": "code",
   "execution_count": null,
   "metadata": {},
   "outputs": [],
   "source": []
  }
 ],
 "metadata": {
  "kernelspec": {
   "display_name": ".venv",
   "language": "python",
   "name": "python3"
  },
  "language_info": {
   "codemirror_mode": {
    "name": "ipython",
    "version": 3
   },
   "file_extension": ".py",
   "mimetype": "text/x-python",
   "name": "python",
   "nbconvert_exporter": "python",
   "pygments_lexer": "ipython3",
   "version": "3.10.6"
  },
  "orig_nbformat": 4
 },
 "nbformat": 4,
 "nbformat_minor": 2
}

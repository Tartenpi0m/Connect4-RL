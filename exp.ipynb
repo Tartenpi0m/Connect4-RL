{
 "cells": [
  {
   "attachments": {},
   "cell_type": "markdown",
   "metadata": {},
   "source": [
    "### Import"
   ]
  },
  {
   "cell_type": "code",
   "execution_count": 1,
   "metadata": {},
   "outputs": [],
   "source": [
    "from AgentDQNv1 import AgentDQNv1\n",
    "from envP4 import Connect4Env\n",
    "import torch"
   ]
  },
  {
   "attachments": {},
   "cell_type": "markdown",
   "metadata": {},
   "source": [
    "### Load QValue/Net"
   ]
  },
  {
   "cell_type": "code",
   "execution_count": 17,
   "metadata": {},
   "outputs": [],
   "source": [
    "first = True\n",
    "qvalue1 = \"A1-N2/3000_a1.pt\"\n",
    "qvalue2 = \"A1-N2/3000_a1.pt\""
   ]
  },
  {
   "attachments": {},
   "cell_type": "markdown",
   "metadata": {},
   "source": [
    "### Play One-Step"
   ]
  },
  {
   "cell_type": "code",
   "execution_count": 44,
   "metadata": {},
   "outputs": [
    {
     "name": "stdout",
     "output_type": "stream",
     "text": [
      "\u001b[37m. \u001b[39m\u001b[37m. \u001b[39m\u001b[37m. \u001b[39m\u001b[37m. \u001b[39m\u001b[37m. \u001b[39m\u001b[37m. \u001b[39m\u001b[37m. \u001b[39m\n",
      "\u001b[37m. \u001b[39m\u001b[37m. \u001b[39m\u001b[37m. \u001b[39m\u001b[37m. \u001b[39m\u001b[37m. \u001b[39m\u001b[37m. \u001b[39m\u001b[37m. \u001b[39m\n",
      "\u001b[37m. \u001b[39m\u001b[37m. \u001b[39m\u001b[37m. \u001b[39m\u001b[37m. \u001b[39m\u001b[37m. \u001b[39m\u001b[37m. \u001b[39m\u001b[37m. \u001b[39m\n",
      "\u001b[37m. \u001b[39m\u001b[37m. \u001b[39m\u001b[37m. \u001b[39m\u001b[37m. \u001b[39m\u001b[37m. \u001b[39m\u001b[37m. \u001b[39m\u001b[37m. \u001b[39m\n",
      "\u001b[37m. \u001b[39m\u001b[37m. \u001b[39m\u001b[37m. \u001b[39m\u001b[37m. \u001b[39m\u001b[37m. \u001b[39m\u001b[37m. \u001b[39m\u001b[37m. \u001b[39m\n",
      "\u001b[37m. \u001b[39m\u001b[37m. \u001b[39m\u001b[37m. \u001b[39m\u001b[37m. \u001b[39m\u001b[31mX \u001b[39m\u001b[37m. \u001b[39m\u001b[37m. \u001b[39m\n",
      "\n"
     ]
    }
   ],
   "source": [
    "#step\n",
    "if first:\n",
    "    \n",
    "    player = 1\n",
    "    winner = 0 #False\n",
    "\n",
    "    env = Connect4Env()\n",
    "    state = env.reset()\n",
    "    agent = AgentDQNv1(1, env.action_space, env.observation_space, lr=0, eps_init=0, eps_step=0, name=\"player 1\")\n",
    "    agent2 = AgentDQNv1(2, env.action_space, env.observation_space, lr=0, eps_init=0, eps_step=0, name=\"player 2\")\n",
    "    agent.q_values = torch.load(\"./runs/\" + qvalue1)\n",
    "    agent2.q_values = torch.load(\"./runs/\" + qvalue2)\n",
    "    first = False\n",
    "    \n",
    "if not winner:\n",
    "    if player == 1:\n",
    "        action = agent.get_action(state, env.get_moves())\n",
    "        state, reward, winner, info = env.step(action, player)\n",
    "        player = 2\n",
    "    elif player == 2:\n",
    "        action = agent2.get_action(state, env.get_moves())\n",
    "        state, reward, winner, info = env.step(action, player)\n",
    "        player = 1\n",
    "\n",
    "    env.render()\n",
    "\n",
    "    if winner:\n",
    "        print(\"THE WINNER IS PLAYER\", winner)\n",
    "        first = True\n",
    "        winner = 0 #False"
   ]
  },
  {
   "cell_type": "code",
   "execution_count": null,
   "metadata": {},
   "outputs": [],
   "source": []
  }
 ],
 "metadata": {
  "kernelspec": {
   "display_name": ".venv",
   "language": "python",
   "name": "python3"
  },
  "language_info": {
   "codemirror_mode": {
    "name": "ipython",
    "version": 3
   },
   "file_extension": ".py",
   "mimetype": "text/x-python",
   "name": "python",
   "nbconvert_exporter": "python",
   "pygments_lexer": "ipython3",
   "version": "3.10.6"
  },
  "orig_nbformat": 4
 },
 "nbformat": 4,
 "nbformat_minor": 2
}
